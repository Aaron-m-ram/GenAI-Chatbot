{
 "cells": [
  {
   "cell_type": "markdown",
   "metadata": {},
   "source": [
    "# Model Evaluation"
   ]
  },
  {
   "cell_type": "markdown",
   "metadata": {},
   "source": [
    "Goal: Build and evaluate a chatbot that can carry out a multi-turn conversation, adapt to context, and handle a variety of topics"
   ]
  },
  {
   "cell_type": "code",
   "execution_count": 3,
   "metadata": {},
   "outputs": [],
   "source": [
    "from transformers import T5ForConditionalGeneration, T5Tokenizer\n",
    "from torch.utils.data import Dataset, DataLoader\n",
    "import torch\n",
    "import pandas as pd\n",
    "# Preprocess the data\n",
    "from sklearn.model_selection import train_test_split\n"
   ]
  },
  {
   "cell_type": "code",
   "execution_count": 4,
   "metadata": {},
   "outputs": [
    {
     "data": {
      "text/html": [
       "<div>\n",
       "<style scoped>\n",
       "    .dataframe tbody tr th:only-of-type {\n",
       "        vertical-align: middle;\n",
       "    }\n",
       "\n",
       "    .dataframe tbody tr th {\n",
       "        vertical-align: top;\n",
       "    }\n",
       "\n",
       "    .dataframe thead th {\n",
       "        text-align: right;\n",
       "    }\n",
       "</style>\n",
       "<table border=\"1\" class=\"dataframe\">\n",
       "  <thead>\n",
       "    <tr style=\"text-align: right;\">\n",
       "      <th></th>\n",
       "      <th>movie_id</th>\n",
       "      <th>character_1</th>\n",
       "      <th>character_2</th>\n",
       "      <th>conversation_history</th>\n",
       "      <th>history_length</th>\n",
       "      <th>response</th>\n",
       "      <th>genre</th>\n",
       "    </tr>\n",
       "  </thead>\n",
       "  <tbody>\n",
       "    <tr>\n",
       "      <th>0</th>\n",
       "      <td>m0</td>\n",
       "      <td>CAMERON</td>\n",
       "      <td>BIANCA</td>\n",
       "      <td>['[START]']</td>\n",
       "      <td>0</td>\n",
       "      <td>Can we make this quick?  Roxanne Korrine and A...</td>\n",
       "      <td>['comedy', 'romance']</td>\n",
       "    </tr>\n",
       "    <tr>\n",
       "      <th>1</th>\n",
       "      <td>m0</td>\n",
       "      <td>BIANCA</td>\n",
       "      <td>CAMERON</td>\n",
       "      <td>['Can we make this quick?  Roxanne Korrine and...</td>\n",
       "      <td>1</td>\n",
       "      <td>Well, I thought we'd start with pronunciation,...</td>\n",
       "      <td>['comedy', 'romance']</td>\n",
       "    </tr>\n",
       "    <tr>\n",
       "      <th>2</th>\n",
       "      <td>m0</td>\n",
       "      <td>CAMERON</td>\n",
       "      <td>BIANCA</td>\n",
       "      <td>['Can we make this quick?  Roxanne Korrine and...</td>\n",
       "      <td>2</td>\n",
       "      <td>Not the hacking and gagging and spitting part....</td>\n",
       "      <td>['comedy', 'romance']</td>\n",
       "    </tr>\n",
       "    <tr>\n",
       "      <th>3</th>\n",
       "      <td>m0</td>\n",
       "      <td>BIANCA</td>\n",
       "      <td>CAMERON</td>\n",
       "      <td>['Can we make this quick?  Roxanne Korrine and...</td>\n",
       "      <td>3</td>\n",
       "      <td>Okay... then how 'bout we try out some French ...</td>\n",
       "      <td>['comedy', 'romance']</td>\n",
       "    </tr>\n",
       "    <tr>\n",
       "      <th>4</th>\n",
       "      <td>m0</td>\n",
       "      <td>CAMERON</td>\n",
       "      <td>BIANCA</td>\n",
       "      <td>['[START]']</td>\n",
       "      <td>0</td>\n",
       "      <td>You're asking me out.  That's so cute. What's ...</td>\n",
       "      <td>['comedy', 'romance']</td>\n",
       "    </tr>\n",
       "  </tbody>\n",
       "</table>\n",
       "</div>"
      ],
      "text/plain": [
       "  movie_id character_1 character_2  \\\n",
       "0       m0     CAMERON      BIANCA   \n",
       "1       m0      BIANCA     CAMERON   \n",
       "2       m0     CAMERON      BIANCA   \n",
       "3       m0      BIANCA     CAMERON   \n",
       "4       m0     CAMERON      BIANCA   \n",
       "\n",
       "                                conversation_history  history_length  \\\n",
       "0                                        ['[START]']               0   \n",
       "1  ['Can we make this quick?  Roxanne Korrine and...               1   \n",
       "2  ['Can we make this quick?  Roxanne Korrine and...               2   \n",
       "3  ['Can we make this quick?  Roxanne Korrine and...               3   \n",
       "4                                        ['[START]']               0   \n",
       "\n",
       "                                            response                  genre  \n",
       "0  Can we make this quick?  Roxanne Korrine and A...  ['comedy', 'romance']  \n",
       "1  Well, I thought we'd start with pronunciation,...  ['comedy', 'romance']  \n",
       "2  Not the hacking and gagging and spitting part....  ['comedy', 'romance']  \n",
       "3  Okay... then how 'bout we try out some French ...  ['comedy', 'romance']  \n",
       "4  You're asking me out.  That's so cute. What's ...  ['comedy', 'romance']  "
      ]
     },
     "execution_count": 4,
     "metadata": {},
     "output_type": "execute_result"
    }
   ],
   "source": [
    "tokenizer = T5Tokenizer.from_pretrained('t5-small')\n",
    "model = T5ForConditionalGeneration.from_pretrained(\"t5-small\")\n",
    "\n",
    "df = pd.read_csv(\"cleaned_conversations.csv\")\n",
    "df.head()\n"
   ]
  },
  {
   "cell_type": "code",
   "execution_count": 14,
   "metadata": {},
   "outputs": [
    {
     "name": "stdout",
     "output_type": "stream",
     "text": [
      "CUDA is not available. Loading model on CPU.\n",
      "Model loaded successfully on cpu.\n"
     ]
    }
   ],
   "source": [
    "# Define the model save path\n",
    "model_save_path = \"./eval/model_w_val.pth\"\n",
    "\n",
    "# Check if a GPU is available and load the model to GPU\n",
    "if torch.cuda.is_available():\n",
    "    device = torch.device('cuda')\n",
    "    print(\"CUDA is available. Loading model on GPU.\")\n",
    "else:\n",
    "    device = torch.device('cpu')\n",
    "    print(\"CUDA is not available. Loading model on CPU.\")\n",
    "\n",
    "# Load the model\n",
    "model = T5ForConditionalGeneration.from_pretrained(\"t5-small\")  # Initialize the model\n",
    "model.load_state_dict(torch.load(model_save_path, map_location=device))  # Load model weights\n",
    "model.to(device)  # Transfer the model to the specified device (GPU or CPU)\n",
    "model.eval()  # Put the model in evaluation mode\n",
    "\n",
    "print(f\"Model loaded successfully on {device}.\")\n",
    "\n"
   ]
  },
  {
   "cell_type": "code",
   "execution_count": 15,
   "metadata": {},
   "outputs": [],
   "source": [
    "\n",
    "def preprocess_data(conversation_history, response):\n",
    "    input_text = \" \".join(conversation_history)\n",
    "    target_text = response\n",
    "    return input_text, target_text\n",
    "\n",
    "# Assuming df is your DataFrame with the raw data\n",
    "df['input'], df['target'] = zip(*df.apply(lambda row: preprocess_data(row['conversation_history'], row['response']), axis=1))\n",
    "\n",
    "# Split the data into train, validation, and test sets\n",
    "train_df, temp_df = train_test_split(df, test_size=0.2, random_state=42)\n",
    "val_df, test_df = train_test_split(temp_df, test_size=0.5, random_state=42)"
   ]
  },
  {
   "cell_type": "code",
   "execution_count": null,
   "metadata": {},
   "outputs": [],
   "source": [
    "class ConversationDataset(Dataset):\n",
    "    def __init__(self, tokenizer, df, max_length=512):\n",
    "        self.tokenizer = tokenizer\n",
    "        self.data = df\n",
    "        self.max_length = max_length\n",
    "\n",
    "    def __len__(self):\n",
    "        return len(self.data)\n",
    "\n",
    "    def __getitem__(self, idx):\n",
    "        input_text = self.data.iloc[idx]['input']\n",
    "        target_text = self.data.iloc[idx]['target']\n",
    "\n",
    "        # Tokenize input and target\n",
    "        input_encodings = self.tokenizer(input_text, truncation=True, padding='max_length', max_length=self.max_length, return_tensors=\"pt\")\n",
    "        target_encodings = self.tokenizer(target_text, truncation=True, padding='max_length', max_length=self.max_length, return_tensors=\"pt\")\n",
    "\n",
    "        return {\n",
    "            'input_ids': input_encodings['input_ids'].flatten(),\n",
    "            'attention_mask': input_encodings['attention_mask'].flatten(),\n",
    "            'labels': target_encodings['input_ids'].flatten()\n",
    "        }\n",
    "\n",
    "# Create datasets\n",
    "train_dataset = ConversationDataset(tokenizer, train_df)\n",
    "val_dataset = ConversationDataset(tokenizer, val_df)\n",
    "test_dataset = ConversationDataset(tokenizer, test_df)\n",
    "\n",
    "# Create dataloaders\n",
    "train_dataloader = DataLoader(train_dataset, batch_size=32, shuffle=True, num_workers=4)\n",
    "val_dataloader = DataLoader(val_dataset, batch_size=32, shuffle=False, num_workers=4)\n",
    "test_dataloader = DataLoader(test_dataset, batch_size=32, shuffle=False, num_workers=4)"
   ]
  }
 ],
 "metadata": {
  "kernelspec": {
   "display_name": "base",
   "language": "python",
   "name": "python3"
  },
  "language_info": {
   "codemirror_mode": {
    "name": "ipython",
    "version": 3
   },
   "file_extension": ".py",
   "mimetype": "text/x-python",
   "name": "python",
   "nbconvert_exporter": "python",
   "pygments_lexer": "ipython3",
   "version": "3.11.9"
  }
 },
 "nbformat": 4,
 "nbformat_minor": 2
}
